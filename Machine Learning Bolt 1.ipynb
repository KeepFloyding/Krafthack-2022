{
 "cells": [
  {
   "cell_type": "markdown",
   "id": "cb5064d5",
   "metadata": {},
   "source": [
    "# Trying with Bolt 1\n",
    "\n",
    "Machine learning approach but this time concentrating on bolt 1\n",
    "\n"
   ]
  },
  {
   "cell_type": "code",
   "execution_count": 1,
   "id": "ed1e8100",
   "metadata": {},
   "outputs": [
    {
     "name": "stdout",
     "output_type": "stream",
     "text": [
      "(943931, 22)\n"
     ]
    },
    {
     "data": {
      "text/html": [
       "<div>\n",
       "<style scoped>\n",
       "    .dataframe tbody tr th:only-of-type {\n",
       "        vertical-align: middle;\n",
       "    }\n",
       "\n",
       "    .dataframe tbody tr th {\n",
       "        vertical-align: top;\n",
       "    }\n",
       "\n",
       "    .dataframe thead th {\n",
       "        text-align: right;\n",
       "    }\n",
       "</style>\n",
       "<table border=\"1\" class=\"dataframe\">\n",
       "  <thead>\n",
       "    <tr style=\"text-align: right;\">\n",
       "      <th></th>\n",
       "      <th>Unit_4_Power</th>\n",
       "      <th>Unit_4_Reactive Power</th>\n",
       "      <th>Turbine_Guide Vane Opening</th>\n",
       "      <th>Turbine_Pressure Drafttube</th>\n",
       "      <th>Turbine_Pressure Spiral Casing</th>\n",
       "      <th>Turbine_Rotational Speed</th>\n",
       "      <th>mode</th>\n",
       "      <th>Bolt_1_Steel tmp</th>\n",
       "      <th>Bolt_1_Tensile</th>\n",
       "      <th>Bolt_2_Tensile</th>\n",
       "      <th>...</th>\n",
       "      <th>Bolt_5_Tensile</th>\n",
       "      <th>Bolt_6_Tensile</th>\n",
       "      <th>Bolt_1_Torsion</th>\n",
       "      <th>Bolt_2_Torsion</th>\n",
       "      <th>Bolt_3_Torsion</th>\n",
       "      <th>Bolt_4_Torsion</th>\n",
       "      <th>Bolt_5_Torsion</th>\n",
       "      <th>Bolt_6_Torsion</th>\n",
       "      <th>lower_bearing_vib_vrt</th>\n",
       "      <th>turbine_bearing_vib_vrt</th>\n",
       "    </tr>\n",
       "    <tr>\n",
       "      <th>timepoints</th>\n",
       "      <th></th>\n",
       "      <th></th>\n",
       "      <th></th>\n",
       "      <th></th>\n",
       "      <th></th>\n",
       "      <th></th>\n",
       "      <th></th>\n",
       "      <th></th>\n",
       "      <th></th>\n",
       "      <th></th>\n",
       "      <th></th>\n",
       "      <th></th>\n",
       "      <th></th>\n",
       "      <th></th>\n",
       "      <th></th>\n",
       "      <th></th>\n",
       "      <th></th>\n",
       "      <th></th>\n",
       "      <th></th>\n",
       "      <th></th>\n",
       "      <th></th>\n",
       "    </tr>\n",
       "  </thead>\n",
       "  <tbody>\n",
       "    <tr>\n",
       "      <th>1970-12-29 10:59:57</th>\n",
       "      <td>311.093257</td>\n",
       "      <td>4.949223</td>\n",
       "      <td>94.206187</td>\n",
       "      <td>150.827828</td>\n",
       "      <td>5305.873472</td>\n",
       "      <td>108.033198</td>\n",
       "      <td>True</td>\n",
       "      <td>2.458908</td>\n",
       "      <td>1609.140569</td>\n",
       "      <td>1488.522739</td>\n",
       "      <td>...</td>\n",
       "      <td>1637.373796</td>\n",
       "      <td>1678.107726</td>\n",
       "      <td>177.730733</td>\n",
       "      <td>163.324591</td>\n",
       "      <td>146.500052</td>\n",
       "      <td>226.013417</td>\n",
       "      <td>298.403158</td>\n",
       "      <td>161.914265</td>\n",
       "      <td>0.154292</td>\n",
       "      <td>0.517703</td>\n",
       "    </tr>\n",
       "    <tr>\n",
       "      <th>1970-12-29 10:59:58</th>\n",
       "      <td>311.103996</td>\n",
       "      <td>5.051777</td>\n",
       "      <td>94.206457</td>\n",
       "      <td>150.774664</td>\n",
       "      <td>5305.690188</td>\n",
       "      <td>108.033197</td>\n",
       "      <td>True</td>\n",
       "      <td>2.458729</td>\n",
       "      <td>1609.127944</td>\n",
       "      <td>1488.494639</td>\n",
       "      <td>...</td>\n",
       "      <td>1637.353554</td>\n",
       "      <td>1678.100380</td>\n",
       "      <td>177.736039</td>\n",
       "      <td>163.323607</td>\n",
       "      <td>146.498639</td>\n",
       "      <td>226.013106</td>\n",
       "      <td>298.403272</td>\n",
       "      <td>161.912569</td>\n",
       "      <td>0.155838</td>\n",
       "      <td>0.530280</td>\n",
       "    </tr>\n",
       "    <tr>\n",
       "      <th>1970-12-29 10:59:59</th>\n",
       "      <td>311.114735</td>\n",
       "      <td>5.154330</td>\n",
       "      <td>94.206726</td>\n",
       "      <td>150.559452</td>\n",
       "      <td>5305.466701</td>\n",
       "      <td>108.033196</td>\n",
       "      <td>True</td>\n",
       "      <td>2.459334</td>\n",
       "      <td>1609.138758</td>\n",
       "      <td>1488.493451</td>\n",
       "      <td>...</td>\n",
       "      <td>1637.360655</td>\n",
       "      <td>1678.106863</td>\n",
       "      <td>177.735616</td>\n",
       "      <td>163.328645</td>\n",
       "      <td>146.494156</td>\n",
       "      <td>226.013736</td>\n",
       "      <td>298.397846</td>\n",
       "      <td>161.912716</td>\n",
       "      <td>0.169547</td>\n",
       "      <td>0.540085</td>\n",
       "    </tr>\n",
       "    <tr>\n",
       "      <th>1970-12-29 11:00:00</th>\n",
       "      <td>311.125475</td>\n",
       "      <td>5.256883</td>\n",
       "      <td>94.206995</td>\n",
       "      <td>150.344239</td>\n",
       "      <td>5305.243213</td>\n",
       "      <td>108.033195</td>\n",
       "      <td>True</td>\n",
       "      <td>2.459329</td>\n",
       "      <td>1609.121478</td>\n",
       "      <td>1488.488279</td>\n",
       "      <td>...</td>\n",
       "      <td>1637.365372</td>\n",
       "      <td>1678.078172</td>\n",
       "      <td>177.738552</td>\n",
       "      <td>163.331201</td>\n",
       "      <td>146.491341</td>\n",
       "      <td>226.017247</td>\n",
       "      <td>298.400658</td>\n",
       "      <td>161.912572</td>\n",
       "      <td>0.173561</td>\n",
       "      <td>0.526994</td>\n",
       "    </tr>\n",
       "    <tr>\n",
       "      <th>1970-12-29 11:00:01</th>\n",
       "      <td>311.136214</td>\n",
       "      <td>5.359436</td>\n",
       "      <td>94.207264</td>\n",
       "      <td>150.129027</td>\n",
       "      <td>5305.019725</td>\n",
       "      <td>108.033194</td>\n",
       "      <td>True</td>\n",
       "      <td>2.459337</td>\n",
       "      <td>1609.113766</td>\n",
       "      <td>1488.488892</td>\n",
       "      <td>...</td>\n",
       "      <td>1637.354723</td>\n",
       "      <td>1678.067193</td>\n",
       "      <td>177.741082</td>\n",
       "      <td>163.329769</td>\n",
       "      <td>146.498284</td>\n",
       "      <td>226.013418</td>\n",
       "      <td>298.402517</td>\n",
       "      <td>161.915946</td>\n",
       "      <td>0.166955</td>\n",
       "      <td>0.524617</td>\n",
       "    </tr>\n",
       "  </tbody>\n",
       "</table>\n",
       "<p>5 rows × 22 columns</p>\n",
       "</div>"
      ],
      "text/plain": [
       "                     Unit_4_Power  Unit_4_Reactive Power  \\\n",
       "timepoints                                                 \n",
       "1970-12-29 10:59:57    311.093257               4.949223   \n",
       "1970-12-29 10:59:58    311.103996               5.051777   \n",
       "1970-12-29 10:59:59    311.114735               5.154330   \n",
       "1970-12-29 11:00:00    311.125475               5.256883   \n",
       "1970-12-29 11:00:01    311.136214               5.359436   \n",
       "\n",
       "                     Turbine_Guide Vane Opening  Turbine_Pressure Drafttube  \\\n",
       "timepoints                                                                    \n",
       "1970-12-29 10:59:57                   94.206187                  150.827828   \n",
       "1970-12-29 10:59:58                   94.206457                  150.774664   \n",
       "1970-12-29 10:59:59                   94.206726                  150.559452   \n",
       "1970-12-29 11:00:00                   94.206995                  150.344239   \n",
       "1970-12-29 11:00:01                   94.207264                  150.129027   \n",
       "\n",
       "                     Turbine_Pressure Spiral Casing  Turbine_Rotational Speed  \\\n",
       "timepoints                                                                      \n",
       "1970-12-29 10:59:57                     5305.873472                108.033198   \n",
       "1970-12-29 10:59:58                     5305.690188                108.033197   \n",
       "1970-12-29 10:59:59                     5305.466701                108.033196   \n",
       "1970-12-29 11:00:00                     5305.243213                108.033195   \n",
       "1970-12-29 11:00:01                     5305.019725                108.033194   \n",
       "\n",
       "                     mode  Bolt_1_Steel tmp  Bolt_1_Tensile  Bolt_2_Tensile  \\\n",
       "timepoints                                                                    \n",
       "1970-12-29 10:59:57  True          2.458908     1609.140569     1488.522739   \n",
       "1970-12-29 10:59:58  True          2.458729     1609.127944     1488.494639   \n",
       "1970-12-29 10:59:59  True          2.459334     1609.138758     1488.493451   \n",
       "1970-12-29 11:00:00  True          2.459329     1609.121478     1488.488279   \n",
       "1970-12-29 11:00:01  True          2.459337     1609.113766     1488.488892   \n",
       "\n",
       "                     ...  Bolt_5_Tensile  Bolt_6_Tensile  Bolt_1_Torsion  \\\n",
       "timepoints           ...                                                   \n",
       "1970-12-29 10:59:57  ...     1637.373796     1678.107726      177.730733   \n",
       "1970-12-29 10:59:58  ...     1637.353554     1678.100380      177.736039   \n",
       "1970-12-29 10:59:59  ...     1637.360655     1678.106863      177.735616   \n",
       "1970-12-29 11:00:00  ...     1637.365372     1678.078172      177.738552   \n",
       "1970-12-29 11:00:01  ...     1637.354723     1678.067193      177.741082   \n",
       "\n",
       "                     Bolt_2_Torsion  Bolt_3_Torsion  Bolt_4_Torsion  \\\n",
       "timepoints                                                            \n",
       "1970-12-29 10:59:57      163.324591      146.500052      226.013417   \n",
       "1970-12-29 10:59:58      163.323607      146.498639      226.013106   \n",
       "1970-12-29 10:59:59      163.328645      146.494156      226.013736   \n",
       "1970-12-29 11:00:00      163.331201      146.491341      226.017247   \n",
       "1970-12-29 11:00:01      163.329769      146.498284      226.013418   \n",
       "\n",
       "                     Bolt_5_Torsion  Bolt_6_Torsion  lower_bearing_vib_vrt  \\\n",
       "timepoints                                                                   \n",
       "1970-12-29 10:59:57      298.403158      161.914265               0.154292   \n",
       "1970-12-29 10:59:58      298.403272      161.912569               0.155838   \n",
       "1970-12-29 10:59:59      298.397846      161.912716               0.169547   \n",
       "1970-12-29 11:00:00      298.400658      161.912572               0.173561   \n",
       "1970-12-29 11:00:01      298.402517      161.915946               0.166955   \n",
       "\n",
       "                     turbine_bearing_vib_vrt  \n",
       "timepoints                                    \n",
       "1970-12-29 10:59:57                 0.517703  \n",
       "1970-12-29 10:59:58                 0.530280  \n",
       "1970-12-29 10:59:59                 0.540085  \n",
       "1970-12-29 11:00:00                 0.526994  \n",
       "1970-12-29 11:00:01                 0.524617  \n",
       "\n",
       "[5 rows x 22 columns]"
      ]
     },
     "execution_count": 1,
     "metadata": {},
     "output_type": "execute_result"
    }
   ],
   "source": [
    "import pandas as pd\n",
    "import matplotlib.pyplot as plt\n",
    "\n",
    "# Read data\n",
    "df=pd.read_parquet('input_dataset-2.parquet')\n",
    "\n",
    "# Make operation a bool\n",
    "df['mode']=df['mode']=='operation'\n",
    "\n",
    "# Select subset\n",
    "#df=df.sample(100000)\n",
    "\n",
    "# Remove nans\n",
    "df = df.dropna()\n",
    "\n",
    "print(df.shape)\n",
    "\n",
    "df.head()"
   ]
  },
  {
   "cell_type": "code",
   "execution_count": 2,
   "id": "427caddf",
   "metadata": {},
   "outputs": [],
   "source": [
    "# Split into input and target variables\n",
    "X = df[['Unit_4_Power', 'Unit_4_Reactive Power', 'Turbine_Guide Vane Opening',\n",
    "       'Turbine_Pressure Drafttube', 'Turbine_Pressure Spiral Casing',\n",
    "       'Turbine_Rotational Speed', 'mode']]\n",
    "\n",
    "y = df.filter(regex='Bolt_1_Tensile')\n",
    "\n",
    "# Split data set into test and train\n",
    "from sklearn.model_selection import train_test_split\n",
    "\n",
    "X_train, X_test, y_train, y_test = train_test_split(X,y)\n",
    "\n"
   ]
  },
  {
   "cell_type": "markdown",
   "id": "926aacaa",
   "metadata": {},
   "source": [
    "## Kitchen Sink\n",
    "\n",
    "Brute force with Linear Regression and Random Forest"
   ]
  },
  {
   "cell_type": "code",
   "execution_count": 3,
   "id": "8f40bf1e",
   "metadata": {},
   "outputs": [
    {
     "data": {
      "text/plain": [
       "0.002396159978661822"
      ]
     },
     "execution_count": 3,
     "metadata": {},
     "output_type": "execute_result"
    }
   ],
   "source": [
    "from sklearn.preprocessing import StandardScaler\n",
    "from sklearn.linear_model import LinearRegression\n",
    "from sklearn.metrics import mean_absolute_percentage_error, mean_absolute_error\n",
    "\n",
    "\n",
    "# Scale\n",
    "scaler = StandardScaler()\n",
    "X_scale = scaler.fit_transform(X_train)\n",
    "\n",
    "# Train\n",
    "model = LinearRegression()\n",
    "model.fit(X_scale, y_train)\n",
    "\n",
    "# Perform a prediction\n",
    "y_pred = model.predict(scaler.transform(X_test))\n",
    "\n",
    "# Check the score\n",
    "mean_absolute_percentage_error(y_test,y_pred)\n"
   ]
  },
  {
   "cell_type": "code",
   "execution_count": 4,
   "id": "8be65918",
   "metadata": {},
   "outputs": [
    {
     "data": {
      "text/plain": [
       "array([1609.14204285, 1618.09696878, 1608.95950214, ..., 1627.94082815,\n",
       "       1619.0096607 , 1617.62832736])"
      ]
     },
     "execution_count": 4,
     "metadata": {},
     "output_type": "execute_result"
    }
   ],
   "source": [
    "# Reshape for plotting\n",
    "y_test['Bolt_1_Tensile'].values\n"
   ]
  },
  {
   "cell_type": "code",
   "execution_count": 5,
   "id": "49da6edb",
   "metadata": {},
   "outputs": [
    {
     "data": {
      "text/plain": [
       "[<matplotlib.lines.Line2D at 0x7f6d2dfc21f0>]"
      ]
     },
     "execution_count": 5,
     "metadata": {},
     "output_type": "execute_result"
    },
    {
     "data": {
      "image/png": "[encoded data removed]",
      "text/plain": [
       "<Figure size 432x288 with 1 Axes>"
      ]
     },
     "metadata": {
      "needs_background": "light"
     },
     "output_type": "display_data"
    }
   ],
   "source": [
    "plt.plot(y_pred.reshape(y_test.shape[0]))\n",
    "plt.plot(y_test['Bolt_1_Tensile'].values)"
   ]
  },
  {
   "cell_type": "code",
   "execution_count": 6,
   "id": "bee8cad6",
   "metadata": {},
   "outputs": [
    {
     "data": {
      "text/plain": [
       "[<matplotlib.lines.Line2D at 0x7f6d2ea31e50>]"
      ]
     },
     "execution_count": 6,
     "metadata": {},
     "output_type": "execute_result"
    },
    {
     "data": {
      "image/png": "[encoded data removed]",
      "text/plain": [
       "<Figure size 1080x360 with 1 Axes>"
      ]
     },
     "metadata": {
      "needs_background": "light"
     },
     "output_type": "display_data"
    }
   ],
   "source": [
    "y_1 = y_pred.reshape(y_test.shape[0])\n",
    "y_2 = y_test['Bolt_1_Tensile'].values\n",
    "\n",
    "plt.figure(figsize=(15,5))\n",
    "plt.plot(range(1400,1800),range(1400,1800))\n",
    "plt.plot(y_1,y_2,'o')"
   ]
  },
  {
   "cell_type": "code",
   "execution_count": 7,
   "id": "1d66fa74",
   "metadata": {},
   "outputs": [
    {
     "name": "stderr",
     "output_type": "stream",
     "text": [
      "/tmp/ipykernel_56765/2519961280.py:9: DataConversionWarning: A column-vector y was passed when a 1d array was expected. Please change the shape of y to (n_samples,), for example using ravel().\n",
      "  model.fit(X_scale, y_train)\n"
     ]
    },
    {
     "data": {
      "text/plain": [
       "3.9139265496458917e-05"
      ]
     },
     "execution_count": 7,
     "metadata": {},
     "output_type": "execute_result"
    }
   ],
   "source": [
    "from sklearn.ensemble import RandomForestRegressor\n",
    "\n",
    "# Scale\n",
    "scaler = StandardScaler()\n",
    "X_scale = scaler.fit_transform(X_train)\n",
    "\n",
    "# Train\n",
    "model = RandomForestRegressor(n_estimators=10)\n",
    "model.fit(X_scale, y_train)\n",
    "\n",
    "# Perform a prediction\n",
    "y_pred = model.predict(scaler.transform(X_test))\n",
    "\n",
    "# Check the score\n",
    "mean_absolute_percentage_error(y_test,y_pred)"
   ]
  },
  {
   "cell_type": "code",
   "execution_count": 8,
   "id": "91c3fe6c",
   "metadata": {},
   "outputs": [
    {
     "data": {
      "text/plain": [
       "[<matplotlib.lines.Line2D at 0x7f6d2976bcd0>]"
      ]
     },
     "execution_count": 8,
     "metadata": {},
     "output_type": "execute_result"
    },
    {
     "data": {
      "image/png": "[encoded data removed]",
      "text/plain": [
       "<Figure size 1080x360 with 1 Axes>"
      ]
     },
     "metadata": {
      "needs_background": "light"
     },
     "output_type": "display_data"
    }
   ],
   "source": [
    "y_1 = y_pred.reshape(y_test.shape[0])\n",
    "y_2 = y_test['Bolt_1_Tensile'].values\n",
    "\n",
    "plt.figure(figsize=(15,5))\n",
    "plt.plot(range(1400,1800),range(1400,1800))\n",
    "plt.plot(y_1,y_2,'o')"
   ]
  },
  {
   "cell_type": "code",
   "execution_count": null,
   "id": "824bdb5c",
   "metadata": {},
   "outputs": [],
   "source": []
  },
  {
   "cell_type": "markdown",
   "id": "bc8f8831",
   "metadata": {},
   "source": [
    "## Try with PCA to increase performance\n"
   ]
  },
  {
   "cell_type": "code",
   "execution_count": 10,
   "id": "85bf99a7",
   "metadata": {},
   "outputs": [
    {
     "data": {
      "text/plain": [
       "0.004192010158090481"
      ]
     },
     "execution_count": 10,
     "metadata": {},
     "output_type": "execute_result"
    }
   ],
   "source": [
    "from sklearn.decomposition import PCA\n",
    "\n",
    "#Scale\n",
    "scaler = StandardScaler()\n",
    "X_scale = scaler.fit_transform(X_train)\n",
    "\n",
    "# Fit PCA\n",
    "pca = PCA(n_components=3)\n",
    "X_pca = pca.fit_transform(X_scale)\n",
    "\n",
    "\n",
    "# Train\n",
    "model = LinearRegression()\n",
    "model.fit(X_pca, y_train)\n",
    "\n",
    "# Perform a prediction\n",
    "X_test_transform = pca.transform(scaler.transform(X_test))\n",
    "y_pred = model.predict(X_test_transform)\n",
    "\n",
    "\n",
    "# Check the score\n",
    "mean_absolute_percentage_error(y_test,y_pred)"
   ]
  },
  {
   "cell_type": "code",
   "execution_count": 11,
   "id": "25b740d5",
   "metadata": {},
   "outputs": [
    {
     "data": {
      "text/plain": [
       "[<matplotlib.lines.Line2D at 0x7f6d2d4e4910>]"
      ]
     },
     "execution_count": 11,
     "metadata": {},
     "output_type": "execute_result"
    },
    {
     "data": {
      "image/png": "[encoded data removed]",
      "text/plain": [
       "<Figure size 1080x360 with 1 Axes>"
      ]
     },
     "metadata": {
      "needs_background": "light"
     },
     "output_type": "display_data"
    }
   ],
   "source": [
    "y_1 = y_pred.reshape(y_test.shape[0])\n",
    "y_2 = y_test['Bolt_1_Tensile'].values\n",
    "\n",
    "plt.figure(figsize=(15,5))\n",
    "plt.plot(range(1400,1800),range(1400,1800))\n",
    "plt.plot(y_1,y_2,'o')"
   ]
  },
  {
   "cell_type": "code",
   "execution_count": null,
   "id": "10042cd8",
   "metadata": {},
   "outputs": [],
   "source": []
  }
 ],
 "metadata": {
  "kernelspec": {
   "display_name": "Python 3 (ipykernel)",
   "language": "python",
   "name": "python3"
  },
  "language_info": {
   "codemirror_mode": {
    "name": "ipython",
    "version": 3
   },
   "file_extension": ".py",
   "mimetype": "text/x-python",
   "name": "python",
   "nbconvert_exporter": "python",
   "pygments_lexer": "ipython3",
   "version": "3.9.10"
  }
 },
 "nbformat": 4,
 "nbformat_minor": 5
}
