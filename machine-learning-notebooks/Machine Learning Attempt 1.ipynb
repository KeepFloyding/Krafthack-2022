{
 "cells": [
  {
   "cell_type": "markdown",
   "id": "27123565",
   "metadata": {},
   "source": [
    "# KraftHack \n",
    "\n",
    "Typical work flow\n",
    "\n",
    "* Read Data\n",
    "* Identify Latent variables\n",
    "* Scale the variables\n",
    "* Train a model for all bolt prediction\n",
    "* Check what the MAPE is for all bolts\n",
    "\n",
    "\n",
    "Trying for all typical methods\n",
    "\n",
    "* Linear\n",
    "* Random Forest\n",
    "* Removing some features\n"
   ]
  },
  {
   "cell_type": "code",
   "execution_count": 1,
   "id": "6b036569",
   "metadata": {},
   "outputs": [
    {
     "data": {
      "text/html": [
       "<div>\n",
       "<style scoped>\n",
       "    .dataframe tbody tr th:only-of-type {\n",
       "        vertical-align: middle;\n",
       "    }\n",
       "\n",
       "    .dataframe tbody tr th {\n",
       "        vertical-align: top;\n",
       "    }\n",
       "\n",
       "    .dataframe thead th {\n",
       "        text-align: right;\n",
       "    }\n",
       "</style>\n",
       "<table border=\"1\" class=\"dataframe\">\n",
       "  <thead>\n",
       "    <tr style=\"text-align: right;\">\n",
       "      <th></th>\n",
       "      <th>Unit_4_Power</th>\n",
       "      <th>Unit_4_Reactive Power</th>\n",
       "      <th>Turbine_Guide Vane Opening</th>\n",
       "      <th>Turbine_Pressure Drafttube</th>\n",
       "      <th>Turbine_Pressure Spiral Casing</th>\n",
       "      <th>Turbine_Rotational Speed</th>\n",
       "      <th>mode</th>\n",
       "      <th>Bolt_1_Steel tmp</th>\n",
       "      <th>Bolt_1_Tensile</th>\n",
       "      <th>Bolt_2_Tensile</th>\n",
       "      <th>...</th>\n",
       "      <th>Bolt_5_Tensile</th>\n",
       "      <th>Bolt_6_Tensile</th>\n",
       "      <th>Bolt_1_Torsion</th>\n",
       "      <th>Bolt_2_Torsion</th>\n",
       "      <th>Bolt_3_Torsion</th>\n",
       "      <th>Bolt_4_Torsion</th>\n",
       "      <th>Bolt_5_Torsion</th>\n",
       "      <th>Bolt_6_Torsion</th>\n",
       "      <th>lower_bearing_vib_vrt</th>\n",
       "      <th>turbine_bearing_vib_vrt</th>\n",
       "    </tr>\n",
       "    <tr>\n",
       "      <th>timepoints</th>\n",
       "      <th></th>\n",
       "      <th></th>\n",
       "      <th></th>\n",
       "      <th></th>\n",
       "      <th></th>\n",
       "      <th></th>\n",
       "      <th></th>\n",
       "      <th></th>\n",
       "      <th></th>\n",
       "      <th></th>\n",
       "      <th></th>\n",
       "      <th></th>\n",
       "      <th></th>\n",
       "      <th></th>\n",
       "      <th></th>\n",
       "      <th></th>\n",
       "      <th></th>\n",
       "      <th></th>\n",
       "      <th></th>\n",
       "      <th></th>\n",
       "      <th></th>\n",
       "    </tr>\n",
       "  </thead>\n",
       "  <tbody>\n",
       "    <tr>\n",
       "      <th>1970-12-29 10:59:57</th>\n",
       "      <td>311.093257</td>\n",
       "      <td>4.949223</td>\n",
       "      <td>94.206187</td>\n",
       "      <td>150.827828</td>\n",
       "      <td>5305.873472</td>\n",
       "      <td>108.033198</td>\n",
       "      <td>True</td>\n",
       "      <td>2.458908</td>\n",
       "      <td>1609.140569</td>\n",
       "      <td>1488.522739</td>\n",
       "      <td>...</td>\n",
       "      <td>1637.373796</td>\n",
       "      <td>1678.107726</td>\n",
       "      <td>177.730733</td>\n",
       "      <td>163.324591</td>\n",
       "      <td>146.500052</td>\n",
       "      <td>226.013417</td>\n",
       "      <td>298.403158</td>\n",
       "      <td>161.914265</td>\n",
       "      <td>0.154292</td>\n",
       "      <td>0.517703</td>\n",
       "    </tr>\n",
       "    <tr>\n",
       "      <th>1970-12-29 10:59:58</th>\n",
       "      <td>311.103996</td>\n",
       "      <td>5.051777</td>\n",
       "      <td>94.206457</td>\n",
       "      <td>150.774664</td>\n",
       "      <td>5305.690188</td>\n",
       "      <td>108.033197</td>\n",
       "      <td>True</td>\n",
       "      <td>2.458729</td>\n",
       "      <td>1609.127944</td>\n",
       "      <td>1488.494639</td>\n",
       "      <td>...</td>\n",
       "      <td>1637.353554</td>\n",
       "      <td>1678.100380</td>\n",
       "      <td>177.736039</td>\n",
       "      <td>163.323607</td>\n",
       "      <td>146.498639</td>\n",
       "      <td>226.013106</td>\n",
       "      <td>298.403272</td>\n",
       "      <td>161.912569</td>\n",
       "      <td>0.155838</td>\n",
       "      <td>0.530280</td>\n",
       "    </tr>\n",
       "    <tr>\n",
       "      <th>1970-12-29 10:59:59</th>\n",
       "      <td>311.114735</td>\n",
       "      <td>5.154330</td>\n",
       "      <td>94.206726</td>\n",
       "      <td>150.559452</td>\n",
       "      <td>5305.466701</td>\n",
       "      <td>108.033196</td>\n",
       "      <td>True</td>\n",
       "      <td>2.459334</td>\n",
       "      <td>1609.138758</td>\n",
       "      <td>1488.493451</td>\n",
       "      <td>...</td>\n",
       "      <td>1637.360655</td>\n",
       "      <td>1678.106863</td>\n",
       "      <td>177.735616</td>\n",
       "      <td>163.328645</td>\n",
       "      <td>146.494156</td>\n",
       "      <td>226.013736</td>\n",
       "      <td>298.397846</td>\n",
       "      <td>161.912716</td>\n",
       "      <td>0.169547</td>\n",
       "      <td>0.540085</td>\n",
       "    </tr>\n",
       "    <tr>\n",
       "      <th>1970-12-29 11:00:00</th>\n",
       "      <td>311.125475</td>\n",
       "      <td>5.256883</td>\n",
       "      <td>94.206995</td>\n",
       "      <td>150.344239</td>\n",
       "      <td>5305.243213</td>\n",
       "      <td>108.033195</td>\n",
       "      <td>True</td>\n",
       "      <td>2.459329</td>\n",
       "      <td>1609.121478</td>\n",
       "      <td>1488.488279</td>\n",
       "      <td>...</td>\n",
       "      <td>1637.365372</td>\n",
       "      <td>1678.078172</td>\n",
       "      <td>177.738552</td>\n",
       "      <td>163.331201</td>\n",
       "      <td>146.491341</td>\n",
       "      <td>226.017247</td>\n",
       "      <td>298.400658</td>\n",
       "      <td>161.912572</td>\n",
       "      <td>0.173561</td>\n",
       "      <td>0.526994</td>\n",
       "    </tr>\n",
       "    <tr>\n",
       "      <th>1970-12-29 11:00:01</th>\n",
       "      <td>311.136214</td>\n",
       "      <td>5.359436</td>\n",
       "      <td>94.207264</td>\n",
       "      <td>150.129027</td>\n",
       "      <td>5305.019725</td>\n",
       "      <td>108.033194</td>\n",
       "      <td>True</td>\n",
       "      <td>2.459337</td>\n",
       "      <td>1609.113766</td>\n",
       "      <td>1488.488892</td>\n",
       "      <td>...</td>\n",
       "      <td>1637.354723</td>\n",
       "      <td>1678.067193</td>\n",
       "      <td>177.741082</td>\n",
       "      <td>163.329769</td>\n",
       "      <td>146.498284</td>\n",
       "      <td>226.013418</td>\n",
       "      <td>298.402517</td>\n",
       "      <td>161.915946</td>\n",
       "      <td>0.166955</td>\n",
       "      <td>0.524617</td>\n",
       "    </tr>\n",
       "  </tbody>\n",
       "</table>\n",
       "<p>5 rows × 22 columns</p>\n",
       "</div>"
      ],
      "text/plain": [
       "                     Unit_4_Power  Unit_4_Reactive Power  \\\n",
       "timepoints                                                 \n",
       "1970-12-29 10:59:57    311.093257               4.949223   \n",
       "1970-12-29 10:59:58    311.103996               5.051777   \n",
       "1970-12-29 10:59:59    311.114735               5.154330   \n",
       "1970-12-29 11:00:00    311.125475               5.256883   \n",
       "1970-12-29 11:00:01    311.136214               5.359436   \n",
       "\n",
       "                     Turbine_Guide Vane Opening  Turbine_Pressure Drafttube  \\\n",
       "timepoints                                                                    \n",
       "1970-12-29 10:59:57                   94.206187                  150.827828   \n",
       "1970-12-29 10:59:58                   94.206457                  150.774664   \n",
       "1970-12-29 10:59:59                   94.206726                  150.559452   \n",
       "1970-12-29 11:00:00                   94.206995                  150.344239   \n",
       "1970-12-29 11:00:01                   94.207264                  150.129027   \n",
       "\n",
       "                     Turbine_Pressure Spiral Casing  Turbine_Rotational Speed  \\\n",
       "timepoints                                                                      \n",
       "1970-12-29 10:59:57                     5305.873472                108.033198   \n",
       "1970-12-29 10:59:58                     5305.690188                108.033197   \n",
       "1970-12-29 10:59:59                     5305.466701                108.033196   \n",
       "1970-12-29 11:00:00                     5305.243213                108.033195   \n",
       "1970-12-29 11:00:01                     5305.019725                108.033194   \n",
       "\n",
       "                     mode  Bolt_1_Steel tmp  Bolt_1_Tensile  Bolt_2_Tensile  \\\n",
       "timepoints                                                                    \n",
       "1970-12-29 10:59:57  True          2.458908     1609.140569     1488.522739   \n",
       "1970-12-29 10:59:58  True          2.458729     1609.127944     1488.494639   \n",
       "1970-12-29 10:59:59  True          2.459334     1609.138758     1488.493451   \n",
       "1970-12-29 11:00:00  True          2.459329     1609.121478     1488.488279   \n",
       "1970-12-29 11:00:01  True          2.459337     1609.113766     1488.488892   \n",
       "\n",
       "                     ...  Bolt_5_Tensile  Bolt_6_Tensile  Bolt_1_Torsion  \\\n",
       "timepoints           ...                                                   \n",
       "1970-12-29 10:59:57  ...     1637.373796     1678.107726      177.730733   \n",
       "1970-12-29 10:59:58  ...     1637.353554     1678.100380      177.736039   \n",
       "1970-12-29 10:59:59  ...     1637.360655     1678.106863      177.735616   \n",
       "1970-12-29 11:00:00  ...     1637.365372     1678.078172      177.738552   \n",
       "1970-12-29 11:00:01  ...     1637.354723     1678.067193      177.741082   \n",
       "\n",
       "                     Bolt_2_Torsion  Bolt_3_Torsion  Bolt_4_Torsion  \\\n",
       "timepoints                                                            \n",
       "1970-12-29 10:59:57      163.324591      146.500052      226.013417   \n",
       "1970-12-29 10:59:58      163.323607      146.498639      226.013106   \n",
       "1970-12-29 10:59:59      163.328645      146.494156      226.013736   \n",
       "1970-12-29 11:00:00      163.331201      146.491341      226.017247   \n",
       "1970-12-29 11:00:01      163.329769      146.498284      226.013418   \n",
       "\n",
       "                     Bolt_5_Torsion  Bolt_6_Torsion  lower_bearing_vib_vrt  \\\n",
       "timepoints                                                                   \n",
       "1970-12-29 10:59:57      298.403158      161.914265               0.154292   \n",
       "1970-12-29 10:59:58      298.403272      161.912569               0.155838   \n",
       "1970-12-29 10:59:59      298.397846      161.912716               0.169547   \n",
       "1970-12-29 11:00:00      298.400658      161.912572               0.173561   \n",
       "1970-12-29 11:00:01      298.402517      161.915946               0.166955   \n",
       "\n",
       "                     turbine_bearing_vib_vrt  \n",
       "timepoints                                    \n",
       "1970-12-29 10:59:57                 0.517703  \n",
       "1970-12-29 10:59:58                 0.530280  \n",
       "1970-12-29 10:59:59                 0.540085  \n",
       "1970-12-29 11:00:00                 0.526994  \n",
       "1970-12-29 11:00:01                 0.524617  \n",
       "\n",
       "[5 rows x 22 columns]"
      ]
     },
     "execution_count": 1,
     "metadata": {},
     "output_type": "execute_result"
    }
   ],
   "source": [
    "import pandas as pd\n",
    "import matplotlib.pyplot as plt\n",
    "\n",
    "# Read data\n",
    "df=pd.read_parquet('input_dataset-2.parquet')\n",
    "\n",
    "# Make operation a bool\n",
    "df['mode']=df['mode']=='operation'\n",
    "\n",
    "# Remove nans\n",
    "df = df.dropna()\n",
    "\n",
    "df.head()"
   ]
  },
  {
   "cell_type": "code",
   "execution_count": null,
   "id": "64b6d9d4",
   "metadata": {},
   "outputs": [],
   "source": [
    "df.corr()"
   ]
  },
  {
   "cell_type": "code",
   "execution_count": null,
   "id": "384a0391",
   "metadata": {},
   "outputs": [],
   "source": []
  },
  {
   "cell_type": "code",
   "execution_count": 2,
   "id": "1f2dffeb",
   "metadata": {},
   "outputs": [],
   "source": [
    "# Split into input and target variables\n",
    "X = df[['Unit_4_Power', 'Unit_4_Reactive Power', 'Turbine_Guide Vane Opening',\n",
    "       'Turbine_Pressure Drafttube', 'Turbine_Pressure Spiral Casing',\n",
    "       'Turbine_Rotational Speed', 'mode']]\n",
    "\n",
    "y = df.filter(regex='Bolt_[1-6]_Tensile')\n",
    "\n"
   ]
  },
  {
   "cell_type": "code",
   "execution_count": null,
   "id": "c5d61cb5",
   "metadata": {},
   "outputs": [],
   "source": []
  },
  {
   "cell_type": "code",
   "execution_count": 3,
   "id": "4c70e9d5",
   "metadata": {},
   "outputs": [],
   "source": [
    "# Split data set into test and train\n",
    "from sklearn.model_selection import train_test_split\n",
    "\n",
    "X_train, X_test, y_train, y_test = train_test_split(X,y)\n",
    "\n",
    "\n"
   ]
  },
  {
   "cell_type": "markdown",
   "id": "d319653a",
   "metadata": {},
   "source": [
    "## The Kitchen Sink\n",
    "\n",
    "Trying out different methods with brute force approaches (i.e. don't care just get me a result)"
   ]
  },
  {
   "cell_type": "code",
   "execution_count": 4,
   "id": "4fcad0c7",
   "metadata": {},
   "outputs": [
    {
     "data": {
      "text/plain": [
       "0.0011162401695767746"
      ]
     },
     "execution_count": 4,
     "metadata": {},
     "output_type": "execute_result"
    }
   ],
   "source": [
    "from sklearn.preprocessing import StandardScaler\n",
    "from sklearn.linear_model import LinearRegression\n",
    "from sklearn.metrics import mean_absolute_percentage_error, mean_absolute_error\n",
    "\n",
    "#pipe = Pipeline([('scaler', StandardScaler()), ('svc', SVC())])\n",
    "\n",
    "# Scale\n",
    "scaler = StandardScaler()\n",
    "X_scale = scaler.fit_transform(X_train)\n",
    "\n",
    "# Train\n",
    "model = LinearRegression()\n",
    "model.fit(X_scale, y_train)\n",
    "\n",
    "# Perform a prediction\n",
    "y_pred = model.predict(scaler.transform(X_test))\n",
    "\n",
    "# Check the score\n",
    "mean_absolute_percentage_error(y_test,y_pred)\n",
    "\n"
   ]
  },
  {
   "cell_type": "code",
   "execution_count": 5,
   "id": "a150622d",
   "metadata": {},
   "outputs": [
    {
     "data": {
      "text/plain": [
       "[<matplotlib.lines.Line2D at 0x7f85cd081400>]"
      ]
     },
     "execution_count": 5,
     "metadata": {},
     "output_type": "execute_result"
    },
    {
     "data": {
      "image/png": "[encoded data removed]",
      "text/plain": [
       "<Figure size 1080x360 with 1 Axes>"
      ]
     },
     "metadata": {
      "needs_background": "light"
     },
     "output_type": "display_data"
    }
   ],
   "source": [
    "# Reshape for plotting\n",
    "\n",
    "plt.figure(figsize=(15,5))\n",
    "\n",
    "plt.plot(range(1400,1800),range(1400,1800))\n",
    "plt.plot(y_pred.reshape(6,y_test.shape[0])[0],y_test['Bolt_1_Tensile'].values,'o')\n"
   ]
  },
  {
   "cell_type": "code",
   "execution_count": 6,
   "id": "4f65aac1",
   "metadata": {},
   "outputs": [
    {
     "ename": "KeyboardInterrupt",
     "evalue": "",
     "output_type": "error",
     "traceback": [
      "\u001b[0;31m---------------------------------------------------------------------------\u001b[0m",
      "\u001b[0;31mKeyboardInterrupt\u001b[0m                         Traceback (most recent call last)",
      "Input \u001b[0;32mIn [6]\u001b[0m, in \u001b[0;36m<module>\u001b[0;34m\u001b[0m\n\u001b[1;32m      7\u001b[0m \u001b[38;5;66;03m# Train\u001b[39;00m\n\u001b[1;32m      8\u001b[0m model \u001b[38;5;241m=\u001b[39m RandomForestRegressor()\n\u001b[0;32m----> 9\u001b[0m \u001b[43mmodel\u001b[49m\u001b[38;5;241;43m.\u001b[39;49m\u001b[43mfit\u001b[49m\u001b[43m(\u001b[49m\u001b[43mX_scale\u001b[49m\u001b[43m,\u001b[49m\u001b[43m \u001b[49m\u001b[43my_train\u001b[49m\u001b[43m)\u001b[49m\n\u001b[1;32m     11\u001b[0m \u001b[38;5;66;03m# Perform a prediction\u001b[39;00m\n\u001b[1;32m     12\u001b[0m y_pred \u001b[38;5;241m=\u001b[39m model\u001b[38;5;241m.\u001b[39mpredict(scaler\u001b[38;5;241m.\u001b[39mtransform(X_test))\n",
      "File \u001b[0;32m~/.env/lib64/python3.9/site-packages/sklearn/ensemble/_forest.py:450\u001b[0m, in \u001b[0;36mBaseForest.fit\u001b[0;34m(self, X, y, sample_weight)\u001b[0m\n\u001b[1;32m    439\u001b[0m trees \u001b[38;5;241m=\u001b[39m [\n\u001b[1;32m    440\u001b[0m     \u001b[38;5;28mself\u001b[39m\u001b[38;5;241m.\u001b[39m_make_estimator(append\u001b[38;5;241m=\u001b[39m\u001b[38;5;28;01mFalse\u001b[39;00m, random_state\u001b[38;5;241m=\u001b[39mrandom_state)\n\u001b[1;32m    441\u001b[0m     \u001b[38;5;28;01mfor\u001b[39;00m i \u001b[38;5;129;01min\u001b[39;00m \u001b[38;5;28mrange\u001b[39m(n_more_estimators)\n\u001b[1;32m    442\u001b[0m ]\n\u001b[1;32m    444\u001b[0m \u001b[38;5;66;03m# Parallel loop: we prefer the threading backend as the Cython code\u001b[39;00m\n\u001b[1;32m    445\u001b[0m \u001b[38;5;66;03m# for fitting the trees is internally releasing the Python GIL\u001b[39;00m\n\u001b[1;32m    446\u001b[0m \u001b[38;5;66;03m# making threading more efficient than multiprocessing in\u001b[39;00m\n\u001b[1;32m    447\u001b[0m \u001b[38;5;66;03m# that case. However, for joblib 0.12+ we respect any\u001b[39;00m\n\u001b[1;32m    448\u001b[0m \u001b[38;5;66;03m# parallel_backend contexts set at a higher level,\u001b[39;00m\n\u001b[1;32m    449\u001b[0m \u001b[38;5;66;03m# since correctness does not rely on using threads.\u001b[39;00m\n\u001b[0;32m--> 450\u001b[0m trees \u001b[38;5;241m=\u001b[39m \u001b[43mParallel\u001b[49m\u001b[43m(\u001b[49m\n\u001b[1;32m    451\u001b[0m \u001b[43m    \u001b[49m\u001b[43mn_jobs\u001b[49m\u001b[38;5;241;43m=\u001b[39;49m\u001b[38;5;28;43mself\u001b[39;49m\u001b[38;5;241;43m.\u001b[39;49m\u001b[43mn_jobs\u001b[49m\u001b[43m,\u001b[49m\n\u001b[1;32m    452\u001b[0m \u001b[43m    \u001b[49m\u001b[43mverbose\u001b[49m\u001b[38;5;241;43m=\u001b[39;49m\u001b[38;5;28;43mself\u001b[39;49m\u001b[38;5;241;43m.\u001b[39;49m\u001b[43mverbose\u001b[49m\u001b[43m,\u001b[49m\n\u001b[1;32m    453\u001b[0m \u001b[43m    \u001b[49m\u001b[38;5;241;43m*\u001b[39;49m\u001b[38;5;241;43m*\u001b[39;49m\u001b[43m_joblib_parallel_args\u001b[49m\u001b[43m(\u001b[49m\u001b[43mprefer\u001b[49m\u001b[38;5;241;43m=\u001b[39;49m\u001b[38;5;124;43m\"\u001b[39;49m\u001b[38;5;124;43mthreads\u001b[39;49m\u001b[38;5;124;43m\"\u001b[39;49m\u001b[43m)\u001b[49m\u001b[43m,\u001b[49m\n\u001b[1;32m    454\u001b[0m \u001b[43m\u001b[49m\u001b[43m)\u001b[49m\u001b[43m(\u001b[49m\n\u001b[1;32m    455\u001b[0m \u001b[43m    \u001b[49m\u001b[43mdelayed\u001b[49m\u001b[43m(\u001b[49m\u001b[43m_parallel_build_trees\u001b[49m\u001b[43m)\u001b[49m\u001b[43m(\u001b[49m\n\u001b[1;32m    456\u001b[0m \u001b[43m        \u001b[49m\u001b[43mt\u001b[49m\u001b[43m,\u001b[49m\n\u001b[1;32m    457\u001b[0m \u001b[43m        \u001b[49m\u001b[38;5;28;43mself\u001b[39;49m\u001b[43m,\u001b[49m\n\u001b[1;32m    458\u001b[0m \u001b[43m        \u001b[49m\u001b[43mX\u001b[49m\u001b[43m,\u001b[49m\n\u001b[1;32m    459\u001b[0m \u001b[43m        \u001b[49m\u001b[43my\u001b[49m\u001b[43m,\u001b[49m\n\u001b[1;32m    460\u001b[0m \u001b[43m        \u001b[49m\u001b[43msample_weight\u001b[49m\u001b[43m,\u001b[49m\n\u001b[1;32m    461\u001b[0m \u001b[43m        \u001b[49m\u001b[43mi\u001b[49m\u001b[43m,\u001b[49m\n\u001b[1;32m    462\u001b[0m \u001b[43m        \u001b[49m\u001b[38;5;28;43mlen\u001b[39;49m\u001b[43m(\u001b[49m\u001b[43mtrees\u001b[49m\u001b[43m)\u001b[49m\u001b[43m,\u001b[49m\n\u001b[1;32m    463\u001b[0m \u001b[43m        \u001b[49m\u001b[43mverbose\u001b[49m\u001b[38;5;241;43m=\u001b[39;49m\u001b[38;5;28;43mself\u001b[39;49m\u001b[38;5;241;43m.\u001b[39;49m\u001b[43mverbose\u001b[49m\u001b[43m,\u001b[49m\n\u001b[1;32m    464\u001b[0m \u001b[43m        \u001b[49m\u001b[43mclass_weight\u001b[49m\u001b[38;5;241;43m=\u001b[39;49m\u001b[38;5;28;43mself\u001b[39;49m\u001b[38;5;241;43m.\u001b[39;49m\u001b[43mclass_weight\u001b[49m\u001b[43m,\u001b[49m\n\u001b[1;32m    465\u001b[0m \u001b[43m        \u001b[49m\u001b[43mn_samples_bootstrap\u001b[49m\u001b[38;5;241;43m=\u001b[39;49m\u001b[43mn_samples_bootstrap\u001b[49m\u001b[43m,\u001b[49m\n\u001b[1;32m    466\u001b[0m \u001b[43m    \u001b[49m\u001b[43m)\u001b[49m\n\u001b[1;32m    467\u001b[0m \u001b[43m    \u001b[49m\u001b[38;5;28;43;01mfor\u001b[39;49;00m\u001b[43m \u001b[49m\u001b[43mi\u001b[49m\u001b[43m,\u001b[49m\u001b[43m \u001b[49m\u001b[43mt\u001b[49m\u001b[43m \u001b[49m\u001b[38;5;129;43;01min\u001b[39;49;00m\u001b[43m \u001b[49m\u001b[38;5;28;43menumerate\u001b[39;49m\u001b[43m(\u001b[49m\u001b[43mtrees\u001b[49m\u001b[43m)\u001b[49m\n\u001b[1;32m    468\u001b[0m \u001b[43m\u001b[49m\u001b[43m)\u001b[49m\n\u001b[1;32m    470\u001b[0m \u001b[38;5;66;03m# Collect newly grown trees\u001b[39;00m\n\u001b[1;32m    471\u001b[0m \u001b[38;5;28mself\u001b[39m\u001b[38;5;241m.\u001b[39mestimators_\u001b[38;5;241m.\u001b[39mextend(trees)\n",
      "File \u001b[0;32m~/.env/lib64/python3.9/site-packages/joblib/parallel.py:1044\u001b[0m, in \u001b[0;36mParallel.__call__\u001b[0;34m(self, iterable)\u001b[0m\n\u001b[1;32m   1041\u001b[0m \u001b[38;5;28;01mif\u001b[39;00m \u001b[38;5;28mself\u001b[39m\u001b[38;5;241m.\u001b[39mdispatch_one_batch(iterator):\n\u001b[1;32m   1042\u001b[0m     \u001b[38;5;28mself\u001b[39m\u001b[38;5;241m.\u001b[39m_iterating \u001b[38;5;241m=\u001b[39m \u001b[38;5;28mself\u001b[39m\u001b[38;5;241m.\u001b[39m_original_iterator \u001b[38;5;129;01mis\u001b[39;00m \u001b[38;5;129;01mnot\u001b[39;00m \u001b[38;5;28;01mNone\u001b[39;00m\n\u001b[0;32m-> 1044\u001b[0m \u001b[38;5;28;01mwhile\u001b[39;00m \u001b[38;5;28;43mself\u001b[39;49m\u001b[38;5;241;43m.\u001b[39;49m\u001b[43mdispatch_one_batch\u001b[49m\u001b[43m(\u001b[49m\u001b[43miterator\u001b[49m\u001b[43m)\u001b[49m:\n\u001b[1;32m   1045\u001b[0m     \u001b[38;5;28;01mpass\u001b[39;00m\n\u001b[1;32m   1047\u001b[0m \u001b[38;5;28;01mif\u001b[39;00m pre_dispatch \u001b[38;5;241m==\u001b[39m \u001b[38;5;124m\"\u001b[39m\u001b[38;5;124mall\u001b[39m\u001b[38;5;124m\"\u001b[39m \u001b[38;5;129;01mor\u001b[39;00m n_jobs \u001b[38;5;241m==\u001b[39m \u001b[38;5;241m1\u001b[39m:\n\u001b[1;32m   1048\u001b[0m     \u001b[38;5;66;03m# The iterable was consumed all at once by the above for loop.\u001b[39;00m\n\u001b[1;32m   1049\u001b[0m     \u001b[38;5;66;03m# No need to wait for async callbacks to trigger to\u001b[39;00m\n\u001b[1;32m   1050\u001b[0m     \u001b[38;5;66;03m# consumption.\u001b[39;00m\n",
      "File \u001b[0;32m~/.env/lib64/python3.9/site-packages/joblib/parallel.py:859\u001b[0m, in \u001b[0;36mParallel.dispatch_one_batch\u001b[0;34m(self, iterator)\u001b[0m\n\u001b[1;32m    857\u001b[0m     \u001b[38;5;28;01mreturn\u001b[39;00m \u001b[38;5;28;01mFalse\u001b[39;00m\n\u001b[1;32m    858\u001b[0m \u001b[38;5;28;01melse\u001b[39;00m:\n\u001b[0;32m--> 859\u001b[0m     \u001b[38;5;28;43mself\u001b[39;49m\u001b[38;5;241;43m.\u001b[39;49m\u001b[43m_dispatch\u001b[49m\u001b[43m(\u001b[49m\u001b[43mtasks\u001b[49m\u001b[43m)\u001b[49m\n\u001b[1;32m    860\u001b[0m     \u001b[38;5;28;01mreturn\u001b[39;00m \u001b[38;5;28;01mTrue\u001b[39;00m\n",
      "File \u001b[0;32m~/.env/lib64/python3.9/site-packages/joblib/parallel.py:777\u001b[0m, in \u001b[0;36mParallel._dispatch\u001b[0;34m(self, batch)\u001b[0m\n\u001b[1;32m    775\u001b[0m \u001b[38;5;28;01mwith\u001b[39;00m \u001b[38;5;28mself\u001b[39m\u001b[38;5;241m.\u001b[39m_lock:\n\u001b[1;32m    776\u001b[0m     job_idx \u001b[38;5;241m=\u001b[39m \u001b[38;5;28mlen\u001b[39m(\u001b[38;5;28mself\u001b[39m\u001b[38;5;241m.\u001b[39m_jobs)\n\u001b[0;32m--> 777\u001b[0m     job \u001b[38;5;241m=\u001b[39m \u001b[38;5;28;43mself\u001b[39;49m\u001b[38;5;241;43m.\u001b[39;49m\u001b[43m_backend\u001b[49m\u001b[38;5;241;43m.\u001b[39;49m\u001b[43mapply_async\u001b[49m\u001b[43m(\u001b[49m\u001b[43mbatch\u001b[49m\u001b[43m,\u001b[49m\u001b[43m \u001b[49m\u001b[43mcallback\u001b[49m\u001b[38;5;241;43m=\u001b[39;49m\u001b[43mcb\u001b[49m\u001b[43m)\u001b[49m\n\u001b[1;32m    778\u001b[0m     \u001b[38;5;66;03m# A job can complete so quickly than its callback is\u001b[39;00m\n\u001b[1;32m    779\u001b[0m     \u001b[38;5;66;03m# called before we get here, causing self._jobs to\u001b[39;00m\n\u001b[1;32m    780\u001b[0m     \u001b[38;5;66;03m# grow. To ensure correct results ordering, .insert is\u001b[39;00m\n\u001b[1;32m    781\u001b[0m     \u001b[38;5;66;03m# used (rather than .append) in the following line\u001b[39;00m\n\u001b[1;32m    782\u001b[0m     \u001b[38;5;28mself\u001b[39m\u001b[38;5;241m.\u001b[39m_jobs\u001b[38;5;241m.\u001b[39minsert(job_idx, job)\n",
      "File \u001b[0;32m~/.env/lib64/python3.9/site-packages/joblib/_parallel_backends.py:208\u001b[0m, in \u001b[0;36mSequentialBackend.apply_async\u001b[0;34m(self, func, callback)\u001b[0m\n\u001b[1;32m    206\u001b[0m \u001b[38;5;28;01mdef\u001b[39;00m \u001b[38;5;21mapply_async\u001b[39m(\u001b[38;5;28mself\u001b[39m, func, callback\u001b[38;5;241m=\u001b[39m\u001b[38;5;28;01mNone\u001b[39;00m):\n\u001b[1;32m    207\u001b[0m     \u001b[38;5;124;03m\"\"\"Schedule a func to be run\"\"\"\u001b[39;00m\n\u001b[0;32m--> 208\u001b[0m     result \u001b[38;5;241m=\u001b[39m \u001b[43mImmediateResult\u001b[49m\u001b[43m(\u001b[49m\u001b[43mfunc\u001b[49m\u001b[43m)\u001b[49m\n\u001b[1;32m    209\u001b[0m     \u001b[38;5;28;01mif\u001b[39;00m callback:\n\u001b[1;32m    210\u001b[0m         callback(result)\n",
      "File \u001b[0;32m~/.env/lib64/python3.9/site-packages/joblib/_parallel_backends.py:572\u001b[0m, in \u001b[0;36mImmediateResult.__init__\u001b[0;34m(self, batch)\u001b[0m\n\u001b[1;32m    569\u001b[0m \u001b[38;5;28;01mdef\u001b[39;00m \u001b[38;5;21m__init__\u001b[39m(\u001b[38;5;28mself\u001b[39m, batch):\n\u001b[1;32m    570\u001b[0m     \u001b[38;5;66;03m# Don't delay the application, to avoid keeping the input\u001b[39;00m\n\u001b[1;32m    571\u001b[0m     \u001b[38;5;66;03m# arguments in memory\u001b[39;00m\n\u001b[0;32m--> 572\u001b[0m     \u001b[38;5;28mself\u001b[39m\u001b[38;5;241m.\u001b[39mresults \u001b[38;5;241m=\u001b[39m \u001b[43mbatch\u001b[49m\u001b[43m(\u001b[49m\u001b[43m)\u001b[49m\n",
      "File \u001b[0;32m~/.env/lib64/python3.9/site-packages/joblib/parallel.py:262\u001b[0m, in \u001b[0;36mBatchedCalls.__call__\u001b[0;34m(self)\u001b[0m\n\u001b[1;32m    258\u001b[0m \u001b[38;5;28;01mdef\u001b[39;00m \u001b[38;5;21m__call__\u001b[39m(\u001b[38;5;28mself\u001b[39m):\n\u001b[1;32m    259\u001b[0m     \u001b[38;5;66;03m# Set the default nested backend to self._backend but do not set the\u001b[39;00m\n\u001b[1;32m    260\u001b[0m     \u001b[38;5;66;03m# change the default number of processes to -1\u001b[39;00m\n\u001b[1;32m    261\u001b[0m     \u001b[38;5;28;01mwith\u001b[39;00m parallel_backend(\u001b[38;5;28mself\u001b[39m\u001b[38;5;241m.\u001b[39m_backend, n_jobs\u001b[38;5;241m=\u001b[39m\u001b[38;5;28mself\u001b[39m\u001b[38;5;241m.\u001b[39m_n_jobs):\n\u001b[0;32m--> 262\u001b[0m         \u001b[38;5;28;01mreturn\u001b[39;00m [func(\u001b[38;5;241m*\u001b[39margs, \u001b[38;5;241m*\u001b[39m\u001b[38;5;241m*\u001b[39mkwargs)\n\u001b[1;32m    263\u001b[0m                 \u001b[38;5;28;01mfor\u001b[39;00m func, args, kwargs \u001b[38;5;129;01min\u001b[39;00m \u001b[38;5;28mself\u001b[39m\u001b[38;5;241m.\u001b[39mitems]\n",
      "File \u001b[0;32m~/.env/lib64/python3.9/site-packages/joblib/parallel.py:262\u001b[0m, in \u001b[0;36m<listcomp>\u001b[0;34m(.0)\u001b[0m\n\u001b[1;32m    258\u001b[0m \u001b[38;5;28;01mdef\u001b[39;00m \u001b[38;5;21m__call__\u001b[39m(\u001b[38;5;28mself\u001b[39m):\n\u001b[1;32m    259\u001b[0m     \u001b[38;5;66;03m# Set the default nested backend to self._backend but do not set the\u001b[39;00m\n\u001b[1;32m    260\u001b[0m     \u001b[38;5;66;03m# change the default number of processes to -1\u001b[39;00m\n\u001b[1;32m    261\u001b[0m     \u001b[38;5;28;01mwith\u001b[39;00m parallel_backend(\u001b[38;5;28mself\u001b[39m\u001b[38;5;241m.\u001b[39m_backend, n_jobs\u001b[38;5;241m=\u001b[39m\u001b[38;5;28mself\u001b[39m\u001b[38;5;241m.\u001b[39m_n_jobs):\n\u001b[0;32m--> 262\u001b[0m         \u001b[38;5;28;01mreturn\u001b[39;00m [\u001b[43mfunc\u001b[49m\u001b[43m(\u001b[49m\u001b[38;5;241;43m*\u001b[39;49m\u001b[43margs\u001b[49m\u001b[43m,\u001b[49m\u001b[43m \u001b[49m\u001b[38;5;241;43m*\u001b[39;49m\u001b[38;5;241;43m*\u001b[39;49m\u001b[43mkwargs\u001b[49m\u001b[43m)\u001b[49m\n\u001b[1;32m    263\u001b[0m                 \u001b[38;5;28;01mfor\u001b[39;00m func, args, kwargs \u001b[38;5;129;01min\u001b[39;00m \u001b[38;5;28mself\u001b[39m\u001b[38;5;241m.\u001b[39mitems]\n",
      "File \u001b[0;32m~/.env/lib64/python3.9/site-packages/sklearn/utils/fixes.py:216\u001b[0m, in \u001b[0;36m_FuncWrapper.__call__\u001b[0;34m(self, *args, **kwargs)\u001b[0m\n\u001b[1;32m    214\u001b[0m \u001b[38;5;28;01mdef\u001b[39;00m \u001b[38;5;21m__call__\u001b[39m(\u001b[38;5;28mself\u001b[39m, \u001b[38;5;241m*\u001b[39margs, \u001b[38;5;241m*\u001b[39m\u001b[38;5;241m*\u001b[39mkwargs):\n\u001b[1;32m    215\u001b[0m     \u001b[38;5;28;01mwith\u001b[39;00m config_context(\u001b[38;5;241m*\u001b[39m\u001b[38;5;241m*\u001b[39m\u001b[38;5;28mself\u001b[39m\u001b[38;5;241m.\u001b[39mconfig):\n\u001b[0;32m--> 216\u001b[0m         \u001b[38;5;28;01mreturn\u001b[39;00m \u001b[38;5;28;43mself\u001b[39;49m\u001b[38;5;241;43m.\u001b[39;49m\u001b[43mfunction\u001b[49m\u001b[43m(\u001b[49m\u001b[38;5;241;43m*\u001b[39;49m\u001b[43margs\u001b[49m\u001b[43m,\u001b[49m\u001b[43m \u001b[49m\u001b[38;5;241;43m*\u001b[39;49m\u001b[38;5;241;43m*\u001b[39;49m\u001b[43mkwargs\u001b[49m\u001b[43m)\u001b[49m\n",
      "File \u001b[0;32m~/.env/lib64/python3.9/site-packages/sklearn/ensemble/_forest.py:185\u001b[0m, in \u001b[0;36m_parallel_build_trees\u001b[0;34m(tree, forest, X, y, sample_weight, tree_idx, n_trees, verbose, class_weight, n_samples_bootstrap)\u001b[0m\n\u001b[1;32m    182\u001b[0m     \u001b[38;5;28;01melif\u001b[39;00m class_weight \u001b[38;5;241m==\u001b[39m \u001b[38;5;124m\"\u001b[39m\u001b[38;5;124mbalanced_subsample\u001b[39m\u001b[38;5;124m\"\u001b[39m:\n\u001b[1;32m    183\u001b[0m         curr_sample_weight \u001b[38;5;241m*\u001b[39m\u001b[38;5;241m=\u001b[39m compute_sample_weight(\u001b[38;5;124m\"\u001b[39m\u001b[38;5;124mbalanced\u001b[39m\u001b[38;5;124m\"\u001b[39m, y, indices\u001b[38;5;241m=\u001b[39mindices)\n\u001b[0;32m--> 185\u001b[0m     \u001b[43mtree\u001b[49m\u001b[38;5;241;43m.\u001b[39;49m\u001b[43mfit\u001b[49m\u001b[43m(\u001b[49m\u001b[43mX\u001b[49m\u001b[43m,\u001b[49m\u001b[43m \u001b[49m\u001b[43my\u001b[49m\u001b[43m,\u001b[49m\u001b[43m \u001b[49m\u001b[43msample_weight\u001b[49m\u001b[38;5;241;43m=\u001b[39;49m\u001b[43mcurr_sample_weight\u001b[49m\u001b[43m,\u001b[49m\u001b[43m \u001b[49m\u001b[43mcheck_input\u001b[49m\u001b[38;5;241;43m=\u001b[39;49m\u001b[38;5;28;43;01mFalse\u001b[39;49;00m\u001b[43m)\u001b[49m\n\u001b[1;32m    186\u001b[0m \u001b[38;5;28;01melse\u001b[39;00m:\n\u001b[1;32m    187\u001b[0m     tree\u001b[38;5;241m.\u001b[39mfit(X, y, sample_weight\u001b[38;5;241m=\u001b[39msample_weight, check_input\u001b[38;5;241m=\u001b[39m\u001b[38;5;28;01mFalse\u001b[39;00m)\n",
      "File \u001b[0;32m~/.env/lib64/python3.9/site-packages/sklearn/tree/_classes.py:1315\u001b[0m, in \u001b[0;36mDecisionTreeRegressor.fit\u001b[0;34m(self, X, y, sample_weight, check_input, X_idx_sorted)\u001b[0m\n\u001b[1;32m   1278\u001b[0m \u001b[38;5;28;01mdef\u001b[39;00m \u001b[38;5;21mfit\u001b[39m(\n\u001b[1;32m   1279\u001b[0m     \u001b[38;5;28mself\u001b[39m, X, y, sample_weight\u001b[38;5;241m=\u001b[39m\u001b[38;5;28;01mNone\u001b[39;00m, check_input\u001b[38;5;241m=\u001b[39m\u001b[38;5;28;01mTrue\u001b[39;00m, X_idx_sorted\u001b[38;5;241m=\u001b[39m\u001b[38;5;124m\"\u001b[39m\u001b[38;5;124mdeprecated\u001b[39m\u001b[38;5;124m\"\u001b[39m\n\u001b[1;32m   1280\u001b[0m ):\n\u001b[1;32m   1281\u001b[0m     \u001b[38;5;124;03m\"\"\"Build a decision tree regressor from the training set (X, y).\u001b[39;00m\n\u001b[1;32m   1282\u001b[0m \n\u001b[1;32m   1283\u001b[0m \u001b[38;5;124;03m    Parameters\u001b[39;00m\n\u001b[0;32m   (...)\u001b[0m\n\u001b[1;32m   1312\u001b[0m \u001b[38;5;124;03m        Fitted estimator.\u001b[39;00m\n\u001b[1;32m   1313\u001b[0m \u001b[38;5;124;03m    \"\"\"\u001b[39;00m\n\u001b[0;32m-> 1315\u001b[0m     \u001b[38;5;28;43msuper\u001b[39;49m\u001b[43m(\u001b[49m\u001b[43m)\u001b[49m\u001b[38;5;241;43m.\u001b[39;49m\u001b[43mfit\u001b[49m\u001b[43m(\u001b[49m\n\u001b[1;32m   1316\u001b[0m \u001b[43m        \u001b[49m\u001b[43mX\u001b[49m\u001b[43m,\u001b[49m\n\u001b[1;32m   1317\u001b[0m \u001b[43m        \u001b[49m\u001b[43my\u001b[49m\u001b[43m,\u001b[49m\n\u001b[1;32m   1318\u001b[0m \u001b[43m        \u001b[49m\u001b[43msample_weight\u001b[49m\u001b[38;5;241;43m=\u001b[39;49m\u001b[43msample_weight\u001b[49m\u001b[43m,\u001b[49m\n\u001b[1;32m   1319\u001b[0m \u001b[43m        \u001b[49m\u001b[43mcheck_input\u001b[49m\u001b[38;5;241;43m=\u001b[39;49m\u001b[43mcheck_input\u001b[49m\u001b[43m,\u001b[49m\n\u001b[1;32m   1320\u001b[0m \u001b[43m        \u001b[49m\u001b[43mX_idx_sorted\u001b[49m\u001b[38;5;241;43m=\u001b[39;49m\u001b[43mX_idx_sorted\u001b[49m\u001b[43m,\u001b[49m\n\u001b[1;32m   1321\u001b[0m \u001b[43m    \u001b[49m\u001b[43m)\u001b[49m\n\u001b[1;32m   1322\u001b[0m     \u001b[38;5;28;01mreturn\u001b[39;00m \u001b[38;5;28mself\u001b[39m\n",
      "File \u001b[0;32m~/.env/lib64/python3.9/site-packages/sklearn/tree/_classes.py:420\u001b[0m, in \u001b[0;36mBaseDecisionTree.fit\u001b[0;34m(self, X, y, sample_weight, check_input, X_idx_sorted)\u001b[0m\n\u001b[1;32m    409\u001b[0m \u001b[38;5;28;01melse\u001b[39;00m:\n\u001b[1;32m    410\u001b[0m     builder \u001b[38;5;241m=\u001b[39m BestFirstTreeBuilder(\n\u001b[1;32m    411\u001b[0m         splitter,\n\u001b[1;32m    412\u001b[0m         min_samples_split,\n\u001b[0;32m   (...)\u001b[0m\n\u001b[1;32m    417\u001b[0m         \u001b[38;5;28mself\u001b[39m\u001b[38;5;241m.\u001b[39mmin_impurity_decrease,\n\u001b[1;32m    418\u001b[0m     )\n\u001b[0;32m--> 420\u001b[0m \u001b[43mbuilder\u001b[49m\u001b[38;5;241;43m.\u001b[39;49m\u001b[43mbuild\u001b[49m\u001b[43m(\u001b[49m\u001b[38;5;28;43mself\u001b[39;49m\u001b[38;5;241;43m.\u001b[39;49m\u001b[43mtree_\u001b[49m\u001b[43m,\u001b[49m\u001b[43m \u001b[49m\u001b[43mX\u001b[49m\u001b[43m,\u001b[49m\u001b[43m \u001b[49m\u001b[43my\u001b[49m\u001b[43m,\u001b[49m\u001b[43m \u001b[49m\u001b[43msample_weight\u001b[49m\u001b[43m)\u001b[49m\n\u001b[1;32m    422\u001b[0m \u001b[38;5;28;01mif\u001b[39;00m \u001b[38;5;28mself\u001b[39m\u001b[38;5;241m.\u001b[39mn_outputs_ \u001b[38;5;241m==\u001b[39m \u001b[38;5;241m1\u001b[39m \u001b[38;5;129;01mand\u001b[39;00m is_classifier(\u001b[38;5;28mself\u001b[39m):\n\u001b[1;32m    423\u001b[0m     \u001b[38;5;28mself\u001b[39m\u001b[38;5;241m.\u001b[39mn_classes_ \u001b[38;5;241m=\u001b[39m \u001b[38;5;28mself\u001b[39m\u001b[38;5;241m.\u001b[39mn_classes_[\u001b[38;5;241m0\u001b[39m]\n",
      "\u001b[0;31mKeyboardInterrupt\u001b[0m: "
     ]
    }
   ],
   "source": [
    "from sklearn.ensemble import RandomForestRegressor\n",
    "\n",
    "#Scale\n",
    "scaler = StandardScaler()\n",
    "X_scale = scaler.fit_transform(X_train)\n",
    "\n",
    "# Train\n",
    "model = RandomForestRegressor()\n",
    "model.fit(X_scale, y_train)\n",
    "\n",
    "# Perform a prediction\n",
    "y_pred = model.predict(scaler.transform(X_test))\n",
    "\n",
    "# Check the score\n",
    "mean_absolute_percentage_error(y_test,y_pred)\n"
   ]
  },
  {
   "cell_type": "code",
   "execution_count": null,
   "id": "62643b05",
   "metadata": {},
   "outputs": [],
   "source": []
  },
  {
   "cell_type": "markdown",
   "id": "4e7e95d7",
   "metadata": {},
   "source": [
    "## Feature Selection (PCA)\n",
    "\n",
    "Trying to refine the apparoach a little bit by performing some feature selection. Do the following:\n",
    "\n",
    "* PCA approach (brute force)\n",
    "* Hand crafted (trying to select the features carefully)"
   ]
  },
  {
   "cell_type": "code",
   "execution_count": 9,
   "id": "63518f89",
   "metadata": {},
   "outputs": [
    {
     "data": {
      "text/plain": [
       "[<matplotlib.lines.Line2D at 0x7f85967f01c0>]"
      ]
     },
     "execution_count": 9,
     "metadata": {},
     "output_type": "execute_result"
    },
    {
     "data": {
      "image/png": "[encoded data removed]",
      "text/plain": [
       "<Figure size 432x288 with 1 Axes>"
      ]
     },
     "metadata": {
      "needs_background": "light"
     },
     "output_type": "display_data"
    }
   ],
   "source": [
    "from sklearn.decomposition import PCA\n",
    "import numpy as np\n",
    "\n",
    "#Scale\n",
    "scaler = StandardScaler()\n",
    "X_scale = scaler.fit_transform(X_train)\n",
    "\n",
    "# Fit PCA\n",
    "pca = PCA()\n",
    "pca.fit(X_scale)\n",
    "\n",
    "# Let's check how many components are good for us\n",
    "plt.plot(np.cumsum(pca.explained_variance_ratio_))\n",
    "\n",
    "# 3 features explain more than 90% of variance, lets use this to train our model"
   ]
  },
  {
   "cell_type": "code",
   "execution_count": 12,
   "id": "2bcda8b8",
   "metadata": {},
   "outputs": [
    {
     "data": {
      "text/plain": [
       "0.0019832982257082864"
      ]
     },
     "execution_count": 12,
     "metadata": {},
     "output_type": "execute_result"
    }
   ],
   "source": [
    "\n",
    "#Scale\n",
    "scaler = StandardScaler()\n",
    "X_scale = scaler.fit_transform(X_train)\n",
    "\n",
    "# Fit PCA\n",
    "pca = PCA(n_components=3)\n",
    "X_pca = pca.fit_transform(X_scale)\n",
    "\n",
    "\n",
    "# Train\n",
    "model = LinearRegression()\n",
    "model.fit(X_pca, y_train)\n",
    "\n",
    "# Perform a prediction\n",
    "X_test_transform = pca.transform(scaler.transform(X_test))\n",
    "y_pred = model.predict(X_test_transform)\n",
    "\n",
    "\n",
    "# Check the score\n",
    "mean_absolute_percentage_error(y_test,y_pred)"
   ]
  },
  {
   "cell_type": "code",
   "execution_count": 16,
   "id": "fa1382d6",
   "metadata": {},
   "outputs": [
    {
     "data": {
      "text/plain": [
       "[<matplotlib.lines.Line2D at 0x7f85c3f60190>]"
      ]
     },
     "execution_count": 16,
     "metadata": {},
     "output_type": "execute_result"
    },
    {
     "data": {
      "image/png": "[encoded data removed]",
      "text/plain": [
       "<Figure size 1080x360 with 1 Axes>"
      ]
     },
     "metadata": {
      "needs_background": "light"
     },
     "output_type": "display_data"
    }
   ],
   "source": [
    "# Reshape for plotting\n",
    "\n",
    "plt.figure(figsize=(15,5))\n",
    "\n",
    "plt.plot(range(1400,1800),range(1400,1800))\n",
    "\n",
    "check = y_pred.reshape(6,y_test.shape[0])[5]\n",
    "plt.plot(check,y_test['Bolt_6_Tensile'].values,'o')"
   ]
  },
  {
   "cell_type": "code",
   "execution_count": null,
   "id": "f4272aac",
   "metadata": {},
   "outputs": [],
   "source": []
  },
  {
   "cell_type": "markdown",
   "id": "c6ab77b1",
   "metadata": {},
   "source": [
    "## Feature Selection (hand crafted approach)\n",
    "\n",
    "Try with handcraft approach"
   ]
  },
  {
   "cell_type": "code",
   "execution_count": 22,
   "id": "6ab9ac5c",
   "metadata": {},
   "outputs": [
    {
     "data": {
      "text/plain": [
       "Unit_4_Power                      0.314564\n",
       "Unit_4_Reactive Power             0.042377\n",
       "Turbine_Guide Vane Opening        0.336906\n",
       "Turbine_Pressure Drafttube       -0.066564\n",
       "Turbine_Pressure Spiral Casing   -0.184463\n",
       "Turbine_Rotational Speed          0.372320\n",
       "mode                              0.329166\n",
       "Bolt_1_Steel tmp                  0.666930\n",
       "Bolt_1_Tensile                    0.972003\n",
       "Bolt_2_Tensile                    1.000000\n",
       "Bolt_3_Tensile                    0.973117\n",
       "Bolt_4_Tensile                    0.856546\n",
       "Bolt_5_Tensile                    0.878307\n",
       "Bolt_6_Tensile                    0.963692\n",
       "Bolt_1_Torsion                    0.852883\n",
       "Bolt_2_Torsion                    0.844160\n",
       "Bolt_3_Torsion                   -0.844522\n",
       "Bolt_4_Torsion                   -0.693480\n",
       "Bolt_5_Torsion                    0.813695\n",
       "Bolt_6_Torsion                   -0.723023\n",
       "lower_bearing_vib_vrt            -0.199979\n",
       "turbine_bearing_vib_vrt          -0.149744\n",
       "Name: Bolt_2_Tensile, dtype: float64"
      ]
     },
     "execution_count": 22,
     "metadata": {},
     "output_type": "execute_result"
    }
   ],
   "source": [
    "# I guess it would be Power, Guide Vane Opening (RPM is quite flat)\n",
    "df.corr()['Bolt_2_Tensile']"
   ]
  },
  {
   "cell_type": "code",
   "execution_count": 24,
   "id": "19479ee5",
   "metadata": {},
   "outputs": [
    {
     "data": {
      "text/plain": [
       "0.0019182931128358344"
      ]
     },
     "execution_count": 24,
     "metadata": {},
     "output_type": "execute_result"
    }
   ],
   "source": [
    "\n",
    "# Scale\n",
    "scaler = StandardScaler()\n",
    "X_scale = scaler.fit_transform(X_train[['Unit_4_Power','Turbine_Guide Vane Opening']])\n",
    "\n",
    "# Train\n",
    "model = LinearRegression()\n",
    "model.fit(X_scale, y_train)\n",
    "\n",
    "# Perform a prediction\n",
    "y_pred = model.predict(scaler.transform(X_test[['Unit_4_Power','Turbine_Guide Vane Opening']]))\n",
    "\n",
    "# Check the score\n",
    "mean_absolute_percentage_error(y_test,y_pred)\n",
    "\n"
   ]
  },
  {
   "cell_type": "code",
   "execution_count": 26,
   "id": "5846e271",
   "metadata": {},
   "outputs": [
    {
     "data": {
      "text/plain": [
       "[<matplotlib.lines.Line2D at 0x7f85c464dbb0>]"
      ]
     },
     "execution_count": 26,
     "metadata": {},
     "output_type": "execute_result"
    },
    {
     "data": {
      "image/png": "[encoded data removed]",
      "text/plain": [
       "<Figure size 1080x360 with 1 Axes>"
      ]
     },
     "metadata": {
      "needs_background": "light"
     },
     "output_type": "display_data"
    }
   ],
   "source": [
    "# Reshape for plotting\n",
    "\n",
    "plt.figure(figsize=(15,5))\n",
    "\n",
    "plt.plot(range(1400,1800),range(1400,1800))\n",
    "\n",
    "check = y_pred.reshape(6,y_test.shape[0])[0]\n",
    "plt.plot(check,y_test['Bolt_1_Tensile'].values,'o')"
   ]
  },
  {
   "cell_type": "code",
   "execution_count": null,
   "id": "49bf169b",
   "metadata": {},
   "outputs": [],
   "source": []
  },
  {
   "cell_type": "code",
   "execution_count": null,
   "id": "96790ffe",
   "metadata": {},
   "outputs": [],
   "source": []
  },
  {
   "cell_type": "markdown",
   "id": "a97a88d1",
   "metadata": {},
   "source": [
    "## All approaches are quite rubbish, need to just maybe concentrate on single bolt and see how well we perform there"
   ]
  },
  {
   "cell_type": "code",
   "execution_count": null,
   "id": "19dc08cf",
   "metadata": {},
   "outputs": [],
   "source": []
  }
 ],
 "metadata": {
  "kernelspec": {
   "display_name": "Python 3 (ipykernel)",
   "language": "python",
   "name": "python3"
  },
  "language_info": {
   "codemirror_mode": {
    "name": "ipython",
    "version": 3
   },
   "file_extension": ".py",
   "mimetype": "text/x-python",
   "name": "python",
   "nbconvert_exporter": "python",
   "pygments_lexer": "ipython3",
   "version": "3.9.10"
  }
 },
 "nbformat": 4,
 "nbformat_minor": 5
}
